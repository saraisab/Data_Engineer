{
  "nbformat": 4,
  "nbformat_minor": 0,
  "metadata": {
    "colab": {
      "provenance": []
    },
    "kernelspec": {
      "name": "python3",
      "display_name": "Python 3"
    },
    "language_info": {
      "name": "python"
    }
  },
  "cells": [
    {
      "cell_type": "markdown",
      "source": [
        "# Workshop \"Data Ingestion with dlt\": Homework DE Zoomcamp\n",
        "## Dataset & API\n",
        "\n",
        "We’ll use NYC Taxi data via the same custom API from the workshop:\n",
        "\n",
        "🔹 Base API URL:\n",
        "\n",
        "`https://us-central1-dlthub-analytics.cloudfunctions.net/data_engineering_zoomcamp_api`\n",
        "\n",
        "🔹 Data format: Paginated JSON (1,000 records per page).\n",
        "🔹 API Pagination: Stop when an empty page is returned."
      ],
      "metadata": {
        "id": "HQphjfK3myyE"
      }
    },
    {
      "cell_type": "markdown",
      "source": [
        "### Question 1\n",
        "Install DLT and check the version"
      ],
      "metadata": {
        "id": "Vmn4Qov2nJDP"
      }
    },
    {
      "cell_type": "code",
      "execution_count": 2,
      "metadata": {
        "colab": {
          "base_uri": "https://localhost:8080/"
        },
        "id": "IVdpsKw7khOr",
        "outputId": "beb959ac-c8cd-494f-daeb-763030659321"
      },
      "outputs": [
        {
          "output_type": "stream",
          "name": "stdout",
          "text": [
            "Collecting dlt[duckdb]\n",
            "  Downloading dlt-1.6.1-py3-none-any.whl.metadata (11 kB)\n",
            "Requirement already satisfied: PyYAML>=5.4.1 in /usr/local/lib/python3.11/dist-packages (from dlt[duckdb]) (6.0.2)\n",
            "Requirement already satisfied: click>=7.1 in /usr/local/lib/python3.11/dist-packages (from dlt[duckdb]) (8.1.8)\n",
            "Requirement already satisfied: duckdb>=0.9 in /usr/local/lib/python3.11/dist-packages (from dlt[duckdb]) (1.1.3)\n",
            "Requirement already satisfied: fsspec>=2022.4.0 in /usr/local/lib/python3.11/dist-packages (from dlt[duckdb]) (2024.10.0)\n",
            "Requirement already satisfied: gitpython>=3.1.29 in /usr/local/lib/python3.11/dist-packages (from dlt[duckdb]) (3.1.44)\n",
            "Collecting giturlparse>=0.10.0 (from dlt[duckdb])\n",
            "  Downloading giturlparse-0.12.0-py2.py3-none-any.whl.metadata (4.5 kB)\n",
            "Collecting hexbytes>=0.2.2 (from dlt[duckdb])\n",
            "  Downloading hexbytes-1.3.0-py3-none-any.whl.metadata (3.3 kB)\n",
            "Requirement already satisfied: humanize>=4.4.0 in /usr/local/lib/python3.11/dist-packages (from dlt[duckdb]) (4.11.0)\n",
            "Collecting jsonpath-ng>=1.5.3 (from dlt[duckdb])\n",
            "  Downloading jsonpath_ng-1.7.0-py3-none-any.whl.metadata (18 kB)\n",
            "Collecting makefun>=1.15.0 (from dlt[duckdb])\n",
            "  Downloading makefun-1.15.6-py2.py3-none-any.whl.metadata (3.2 kB)\n",
            "Requirement already satisfied: orjson!=3.10.1,!=3.9.11,!=3.9.12,!=3.9.13,!=3.9.14,<4,>=3.6.7 in /usr/local/lib/python3.11/dist-packages (from dlt[duckdb]) (3.10.15)\n",
            "Requirement already satisfied: packaging>=21.1 in /usr/local/lib/python3.11/dist-packages (from dlt[duckdb]) (24.2)\n",
            "Collecting pathvalidate>=2.5.2 (from dlt[duckdb])\n",
            "  Downloading pathvalidate-3.2.3-py3-none-any.whl.metadata (12 kB)\n",
            "Collecting pendulum>=2.1.2 (from dlt[duckdb])\n",
            "  Downloading pendulum-3.0.0-cp311-cp311-manylinux_2_17_x86_64.manylinux2014_x86_64.whl.metadata (6.9 kB)\n",
            "Requirement already satisfied: pluggy>=1.3.0 in /usr/local/lib/python3.11/dist-packages (from dlt[duckdb]) (1.5.0)\n",
            "Requirement already satisfied: pytz>=2022.6 in /usr/local/lib/python3.11/dist-packages (from dlt[duckdb]) (2025.1)\n",
            "Requirement already satisfied: requests>=2.26.0 in /usr/local/lib/python3.11/dist-packages (from dlt[duckdb]) (2.32.3)\n",
            "Requirement already satisfied: requirements-parser>=0.5.0 in /usr/local/lib/python3.11/dist-packages (from dlt[duckdb]) (0.9.0)\n",
            "Collecting rich-argparse<2.0.0,>=1.6.0 (from dlt[duckdb])\n",
            "  Downloading rich_argparse-1.7.0-py3-none-any.whl.metadata (14 kB)\n",
            "Collecting semver>=3.0.0 (from dlt[duckdb])\n",
            "  Downloading semver-3.0.4-py3-none-any.whl.metadata (6.8 kB)\n",
            "Requirement already satisfied: setuptools>=65.6.0 in /usr/local/lib/python3.11/dist-packages (from dlt[duckdb]) (75.1.0)\n",
            "Collecting simplejson>=3.17.5 (from dlt[duckdb])\n",
            "  Downloading simplejson-3.20.1-cp311-cp311-manylinux_2_5_x86_64.manylinux1_x86_64.manylinux_2_17_x86_64.manylinux2014_x86_64.whl.metadata (3.2 kB)\n",
            "Requirement already satisfied: tenacity>=8.0.2 in /usr/local/lib/python3.11/dist-packages (from dlt[duckdb]) (9.0.0)\n",
            "Collecting tomlkit>=0.11.3 (from dlt[duckdb])\n",
            "  Downloading tomlkit-0.13.2-py3-none-any.whl.metadata (2.7 kB)\n",
            "Requirement already satisfied: typing-extensions>=4.8.0 in /usr/local/lib/python3.11/dist-packages (from dlt[duckdb]) (4.12.2)\n",
            "Requirement already satisfied: tzdata>=2022.1 in /usr/local/lib/python3.11/dist-packages (from dlt[duckdb]) (2025.1)\n",
            "Requirement already satisfied: gitdb<5,>=4.0.1 in /usr/local/lib/python3.11/dist-packages (from gitpython>=3.1.29->dlt[duckdb]) (4.0.12)\n",
            "Requirement already satisfied: ply in /usr/local/lib/python3.11/dist-packages (from jsonpath-ng>=1.5.3->dlt[duckdb]) (3.11)\n",
            "Requirement already satisfied: python-dateutil>=2.6 in /usr/local/lib/python3.11/dist-packages (from pendulum>=2.1.2->dlt[duckdb]) (2.8.2)\n",
            "Collecting time-machine>=2.6.0 (from pendulum>=2.1.2->dlt[duckdb])\n",
            "  Downloading time_machine-2.16.0-cp311-cp311-manylinux_2_5_x86_64.manylinux1_x86_64.manylinux_2_17_x86_64.manylinux2014_x86_64.whl.metadata (21 kB)\n",
            "Requirement already satisfied: charset-normalizer<4,>=2 in /usr/local/lib/python3.11/dist-packages (from requests>=2.26.0->dlt[duckdb]) (3.4.1)\n",
            "Requirement already satisfied: idna<4,>=2.5 in /usr/local/lib/python3.11/dist-packages (from requests>=2.26.0->dlt[duckdb]) (3.10)\n",
            "Requirement already satisfied: urllib3<3,>=1.21.1 in /usr/local/lib/python3.11/dist-packages (from requests>=2.26.0->dlt[duckdb]) (2.3.0)\n",
            "Requirement already satisfied: certifi>=2017.4.17 in /usr/local/lib/python3.11/dist-packages (from requests>=2.26.0->dlt[duckdb]) (2025.1.31)\n",
            "Requirement already satisfied: types-setuptools>=69.1.0 in /usr/local/lib/python3.11/dist-packages (from requirements-parser>=0.5.0->dlt[duckdb]) (75.8.0.20250210)\n",
            "Requirement already satisfied: rich>=11.0.0 in /usr/local/lib/python3.11/dist-packages (from rich-argparse<2.0.0,>=1.6.0->dlt[duckdb]) (13.9.4)\n",
            "Requirement already satisfied: smmap<6,>=3.0.1 in /usr/local/lib/python3.11/dist-packages (from gitdb<5,>=4.0.1->gitpython>=3.1.29->dlt[duckdb]) (5.0.2)\n",
            "Requirement already satisfied: six>=1.5 in /usr/local/lib/python3.11/dist-packages (from python-dateutil>=2.6->pendulum>=2.1.2->dlt[duckdb]) (1.17.0)\n",
            "Requirement already satisfied: markdown-it-py>=2.2.0 in /usr/local/lib/python3.11/dist-packages (from rich>=11.0.0->rich-argparse<2.0.0,>=1.6.0->dlt[duckdb]) (3.0.0)\n",
            "Requirement already satisfied: pygments<3.0.0,>=2.13.0 in /usr/local/lib/python3.11/dist-packages (from rich>=11.0.0->rich-argparse<2.0.0,>=1.6.0->dlt[duckdb]) (2.18.0)\n",
            "Requirement already satisfied: mdurl~=0.1 in /usr/local/lib/python3.11/dist-packages (from markdown-it-py>=2.2.0->rich>=11.0.0->rich-argparse<2.0.0,>=1.6.0->dlt[duckdb]) (0.1.2)\n",
            "Downloading giturlparse-0.12.0-py2.py3-none-any.whl (15 kB)\n",
            "Downloading hexbytes-1.3.0-py3-none-any.whl (4.9 kB)\n",
            "Downloading jsonpath_ng-1.7.0-py3-none-any.whl (30 kB)\n",
            "Downloading makefun-1.15.6-py2.py3-none-any.whl (22 kB)\n",
            "Downloading pathvalidate-3.2.3-py3-none-any.whl (24 kB)\n",
            "Downloading pendulum-3.0.0-cp311-cp311-manylinux_2_17_x86_64.manylinux2014_x86_64.whl (384 kB)\n",
            "\u001b[2K   \u001b[90m━━━━━━━━━━━━━━━━━━━━━━━━━━━━━━━━━━━━━━━━\u001b[0m \u001b[32m384.9/384.9 kB\u001b[0m \u001b[31m19.0 MB/s\u001b[0m eta \u001b[36m0:00:00\u001b[0m\n",
            "\u001b[?25hDownloading rich_argparse-1.7.0-py3-none-any.whl (25 kB)\n",
            "Downloading semver-3.0.4-py3-none-any.whl (17 kB)\n",
            "Downloading simplejson-3.20.1-cp311-cp311-manylinux_2_5_x86_64.manylinux1_x86_64.manylinux_2_17_x86_64.manylinux2014_x86_64.whl (144 kB)\n",
            "\u001b[2K   \u001b[90m━━━━━━━━━━━━━━━━━━━━━━━━━━━━━━━━━━━━━━━━\u001b[0m \u001b[32m144.8/144.8 kB\u001b[0m \u001b[31m11.1 MB/s\u001b[0m eta \u001b[36m0:00:00\u001b[0m\n",
            "\u001b[?25hDownloading tomlkit-0.13.2-py3-none-any.whl (37 kB)\n",
            "Downloading dlt-1.6.1-py3-none-any.whl (884 kB)\n",
            "\u001b[2K   \u001b[90m━━━━━━━━━━━━━━━━━━━━━━━━━━━━━━━━━━━━━━━━\u001b[0m \u001b[32m884.3/884.3 kB\u001b[0m \u001b[31m14.0 MB/s\u001b[0m eta \u001b[36m0:00:00\u001b[0m\n",
            "\u001b[?25hDownloading time_machine-2.16.0-cp311-cp311-manylinux_2_5_x86_64.manylinux1_x86_64.manylinux_2_17_x86_64.manylinux2014_x86_64.whl (32 kB)\n",
            "Installing collected packages: makefun, tomlkit, simplejson, semver, pathvalidate, jsonpath-ng, hexbytes, giturlparse, time-machine, rich-argparse, pendulum, dlt\n",
            "Successfully installed dlt-1.6.1 giturlparse-0.12.0 hexbytes-1.3.0 jsonpath-ng-1.7.0 makefun-1.15.6 pathvalidate-3.2.3 pendulum-3.0.0 rich-argparse-1.7.0 semver-3.0.4 simplejson-3.20.1 time-machine-2.16.0 tomlkit-0.13.2\n"
          ]
        }
      ],
      "source": [
        "!pip install dlt[duckdb]"
      ]
    },
    {
      "cell_type": "code",
      "source": [
        "!dlt --version"
      ],
      "metadata": {
        "colab": {
          "base_uri": "https://localhost:8080/"
        },
        "id": "NXwHOldTmw1p",
        "outputId": "4ebfe9b1-9c59-49b2-8b9d-a89e8aa2b355"
      },
      "execution_count": 2,
      "outputs": [
        {
          "output_type": "stream",
          "name": "stdout",
          "text": [
            "\u001b[39mdlt 1.6.1\u001b[0m\n"
          ]
        }
      ]
    },
    {
      "cell_type": "markdown",
      "source": [
        "Solution dlt 1.6.1"
      ],
      "metadata": {
        "id": "jxTD6mZ6jY1o"
      }
    },
    {
      "cell_type": "markdown",
      "source": [
        "### Question 2: Define & Run the Pipeline (NYC Taxi API)\n",
        "Use dlt to extract all pages of data from the API.\n",
        "\n",
        "*How many tables were created?*\n",
        "\n",
        "Steps:\n",
        "\n",
        "1️⃣ Use the @dlt.resource decorator to define the API source.\n",
        "\n",
        "2️⃣ Implement automatic pagination using dlt's built-in REST client.\n",
        "\n",
        "3️⃣ Load the extracted data into DuckDB for querying."
      ],
      "metadata": {
        "id": "_z-UkGHfnphN"
      }
    },
    {
      "cell_type": "code",
      "source": [
        "import dlt\n",
        "from dlt.sources.helpers.rest_client import RESTClient\n",
        "from dlt.sources.helpers.rest_client.paginators import PageNumberPaginator\n",
        "\n",
        "\n",
        "# Connection to the API\n",
        "# Define the API resource for NYC taxi data\n",
        "@dlt.resource(name=\"rides\")   # <--- The name of the resource (will be used as the table name)\n",
        "def ny_taxi():\n",
        "    client = RESTClient(\n",
        "        base_url=\"https://us-central1-dlthub-analytics.cloudfunctions.net\",\n",
        "        paginator=PageNumberPaginator(\n",
        "            base_page=1,\n",
        "            total_path=None\n",
        "        )\n",
        "    )\n",
        "\n",
        "    for page in client.paginate(\"data_engineering_zoomcamp_api\"):    # <--- API endpoint for retrieving taxi ride data\n",
        "        yield page   # <--- yield data to manage memory\n"
      ],
      "metadata": {
        "id": "6QZu0zn8nWPy"
      },
      "execution_count": 3,
      "outputs": []
    },
    {
      "cell_type": "code",
      "source": [
        "# I'm going to check the first 4 rows of the ny_taxy\n",
        "count = 0\n",
        "for page_data in ny_taxi():\n",
        "  if count <= 3:\n",
        "    print(page_data)\n",
        "    count += 1\n",
        "  else:\n",
        "    break"
      ],
      "metadata": {
        "colab": {
          "base_uri": "https://localhost:8080/"
        },
        "id": "KDDAqgBEbl0j",
        "outputId": "f5fd9573-9d74-4409-ae5b-9b6e52cdb258"
      },
      "execution_count": 16,
      "outputs": [
        {
          "output_type": "stream",
          "name": "stdout",
          "text": [
            "{'End_Lat': 40.742963, 'End_Lon': -73.980072, 'Fare_Amt': 45.0, 'Passenger_Count': 1, 'Payment_Type': 'Credit', 'Rate_Code': None, 'Start_Lat': 40.641525, 'Start_Lon': -73.787442, 'Tip_Amt': 9.0, 'Tolls_Amt': 4.15, 'Total_Amt': 58.15, 'Trip_Distance': 17.52, 'Trip_Dropoff_DateTime': '2009-06-14 23:48:00', 'Trip_Pickup_DateTime': '2009-06-14 23:23:00', 'mta_tax': None, 'store_and_forward': None, 'surcharge': 0.0, 'vendor_name': 'VTS'}\n",
            "{'End_Lat': 40.740187, 'End_Lon': -74.005698, 'Fare_Amt': 6.5, 'Passenger_Count': 1, 'Payment_Type': 'Credit', 'Rate_Code': None, 'Start_Lat': 40.722065, 'Start_Lon': -74.009767, 'Tip_Amt': 1.0, 'Tolls_Amt': 0.0, 'Total_Amt': 8.5, 'Trip_Distance': 1.56, 'Trip_Dropoff_DateTime': '2009-06-18 17:43:00', 'Trip_Pickup_DateTime': '2009-06-18 17:35:00', 'mta_tax': None, 'store_and_forward': None, 'surcharge': 1.0, 'vendor_name': 'VTS'}\n",
            "{'End_Lat': 40.718043, 'End_Lon': -74.004745, 'Fare_Amt': 12.5, 'Passenger_Count': 5, 'Payment_Type': 'Credit', 'Rate_Code': None, 'Start_Lat': 40.761945, 'Start_Lon': -73.983038, 'Tip_Amt': 2.0, 'Tolls_Amt': 0.0, 'Total_Amt': 15.5, 'Trip_Distance': 3.37, 'Trip_Dropoff_DateTime': '2009-06-10 18:27:00', 'Trip_Pickup_DateTime': '2009-06-10 18:08:00', 'mta_tax': None, 'store_and_forward': None, 'surcharge': 1.0, 'vendor_name': 'VTS'}\n",
            "{'End_Lat': 40.739637, 'End_Lon': -73.985233, 'Fare_Amt': 4.9, 'Passenger_Count': 1, 'Payment_Type': 'CASH', 'Rate_Code': None, 'Start_Lat': 40.749802, 'Start_Lon': -73.992247, 'Tip_Amt': 0.0, 'Tolls_Amt': 0.0, 'Total_Amt': 5.4, 'Trip_Distance': 1.11, 'Trip_Dropoff_DateTime': '2009-06-14 23:58:00', 'Trip_Pickup_DateTime': '2009-06-14 23:54:00', 'mta_tax': None, 'store_and_forward': None, 'surcharge': 0.5, 'vendor_name': 'VTS'}\n"
          ]
        }
      ]
    },
    {
      "cell_type": "code",
      "source": [
        "# creating the pipeline\n",
        "pipeline = dlt.pipeline(\n",
        "    pipeline_name=\"ny_taxi_pipeline\",\n",
        "    destination=\"duckdb\",\n",
        "    dataset_name=\"ny_taxi_data\"\n",
        ")"
      ],
      "metadata": {
        "id": "Uwk4CQu5oKBo"
      },
      "execution_count": 6,
      "outputs": []
    },
    {
      "cell_type": "code",
      "source": [
        "# loading the data to the duckdb\n",
        "load_info = pipeline.run(ny_taxi)\n",
        "print(load_info)"
      ],
      "metadata": {
        "colab": {
          "base_uri": "https://localhost:8080/"
        },
        "id": "9QGhVWOKmx2t",
        "outputId": "a789cd15-1891-4894-852f-9ec5bf86551a"
      },
      "execution_count": 8,
      "outputs": [
        {
          "output_type": "stream",
          "name": "stdout",
          "text": [
            "Pipeline ny_taxi_pipeline load step completed in 2.37 seconds\n",
            "1 load package(s) were loaded to destination duckdb and into dataset ny_taxi_data\n",
            "The duckdb destination used duckdb:////content/ny_taxi_pipeline.duckdb location to store data\n",
            "Load package 1739603381.4691353 is LOADED and contains no failed jobs\n"
          ]
        }
      ]
    },
    {
      "cell_type": "code",
      "source": [
        "print(pipeline.last_trace)"
      ],
      "metadata": {
        "colab": {
          "base_uri": "https://localhost:8080/"
        },
        "id": "pjusCOvRdr-v",
        "outputId": "8b377005-0599-4e16-ed89-71211220fa74"
      },
      "execution_count": 9,
      "outputs": [
        {
          "output_type": "stream",
          "name": "stdout",
          "text": [
            "Run started at 2025-02-15 07:09:41.310960+00:00 and COMPLETED in 25.85 seconds with 4 steps.\n",
            "Step extract COMPLETED in 20.56 seconds.\n",
            "\n",
            "Load package 1739603381.4691353 is EXTRACTED and NOT YET LOADED to the destination and contains no failed jobs\n",
            "\n",
            "Step normalize COMPLETED in 1.95 seconds.\n",
            "Normalized data for the following tables:\n",
            "- rides: 10000 row(s)\n",
            "- _dlt_pipeline_state: 1 row(s)\n",
            "\n",
            "Load package 1739603381.4691353 is NORMALIZED and NOT YET LOADED to the destination and contains no failed jobs\n",
            "\n",
            "Step load COMPLETED in 3.18 seconds.\n",
            "Pipeline ny_taxi_pipeline load step completed in 2.37 seconds\n",
            "1 load package(s) were loaded to destination duckdb and into dataset ny_taxi_data\n",
            "The duckdb destination used duckdb:////content/ny_taxi_pipeline.duckdb location to store data\n",
            "Load package 1739603381.4691353 is LOADED and contains no failed jobs\n",
            "\n",
            "Step run COMPLETED in 25.85 seconds.\n",
            "Pipeline ny_taxi_pipeline load step completed in 2.37 seconds\n",
            "1 load package(s) were loaded to destination duckdb and into dataset ny_taxi_data\n",
            "The duckdb destination used duckdb:////content/ny_taxi_pipeline.duckdb location to store data\n",
            "Load package 1739603381.4691353 is LOADED and contains no failed jobs\n"
          ]
        }
      ]
    },
    {
      "cell_type": "code",
      "source": [
        "# Start a connection to duckdb\n",
        "import duckdb\n",
        "from google.colab import data_table\n",
        "data_table.enable_dataframe_formatter()\n",
        "\n",
        "# A database '<pipeline_name>.duckdb' was created in working directory so just connect to it\n",
        "\n",
        "# Connect to the DuckDB database\n",
        "conn = duckdb.connect(f\"{pipeline.pipeline_name}.duckdb\")\n",
        "\n",
        "# Set search path to the dataset\n",
        "conn.sql(f\"SET search_path = '{pipeline.dataset_name}'\")\n",
        "\n",
        "# Describe the dataset\n",
        "conn.sql(\"DESCRIBE\").df()"
      ],
      "metadata": {
        "colab": {
          "base_uri": "https://localhost:8080/",
          "height": 309
        },
        "id": "IjYdvdJZdMox",
        "outputId": "3a5cace8-e810-4f80-b0cb-b68840b39b66"
      },
      "execution_count": 10,
      "outputs": [
        {
          "output_type": "execute_result",
          "data": {
            "text/plain": [
              "           database        schema                 name  \\\n",
              "0  ny_taxi_pipeline  ny_taxi_data           _dlt_loads   \n",
              "1  ny_taxi_pipeline  ny_taxi_data  _dlt_pipeline_state   \n",
              "2  ny_taxi_pipeline  ny_taxi_data         _dlt_version   \n",
              "3  ny_taxi_pipeline  ny_taxi_data                rides   \n",
              "\n",
              "                                        column_names  \\\n",
              "0  [load_id, schema_name, status, inserted_at, sc...   \n",
              "1  [version, engine_version, pipeline_name, state...   \n",
              "2  [version, engine_version, inserted_at, schema_...   \n",
              "3  [end_lat, end_lon, fare_amt, passenger_count, ...   \n",
              "\n",
              "                                        column_types  temporary  \n",
              "0  [VARCHAR, VARCHAR, BIGINT, TIMESTAMP WITH TIME...      False  \n",
              "1  [BIGINT, BIGINT, VARCHAR, VARCHAR, TIMESTAMP W...      False  \n",
              "2  [BIGINT, BIGINT, TIMESTAMP WITH TIME ZONE, VAR...      False  \n",
              "3  [DOUBLE, DOUBLE, DOUBLE, BIGINT, VARCHAR, DOUB...      False  "
            ],
            "text/html": [
              "\n",
              "  <div id=\"df-b64856dd-e543-4c93-a454-7ba2e3cf22f4\" class=\"colab-df-container\">\n",
              "    <div>\n",
              "<style scoped>\n",
              "    .dataframe tbody tr th:only-of-type {\n",
              "        vertical-align: middle;\n",
              "    }\n",
              "\n",
              "    .dataframe tbody tr th {\n",
              "        vertical-align: top;\n",
              "    }\n",
              "\n",
              "    .dataframe thead th {\n",
              "        text-align: right;\n",
              "    }\n",
              "</style>\n",
              "<table border=\"1\" class=\"dataframe\">\n",
              "  <thead>\n",
              "    <tr style=\"text-align: right;\">\n",
              "      <th></th>\n",
              "      <th>database</th>\n",
              "      <th>schema</th>\n",
              "      <th>name</th>\n",
              "      <th>column_names</th>\n",
              "      <th>column_types</th>\n",
              "      <th>temporary</th>\n",
              "    </tr>\n",
              "  </thead>\n",
              "  <tbody>\n",
              "    <tr>\n",
              "      <th>0</th>\n",
              "      <td>ny_taxi_pipeline</td>\n",
              "      <td>ny_taxi_data</td>\n",
              "      <td>_dlt_loads</td>\n",
              "      <td>[load_id, schema_name, status, inserted_at, sc...</td>\n",
              "      <td>[VARCHAR, VARCHAR, BIGINT, TIMESTAMP WITH TIME...</td>\n",
              "      <td>False</td>\n",
              "    </tr>\n",
              "    <tr>\n",
              "      <th>1</th>\n",
              "      <td>ny_taxi_pipeline</td>\n",
              "      <td>ny_taxi_data</td>\n",
              "      <td>_dlt_pipeline_state</td>\n",
              "      <td>[version, engine_version, pipeline_name, state...</td>\n",
              "      <td>[BIGINT, BIGINT, VARCHAR, VARCHAR, TIMESTAMP W...</td>\n",
              "      <td>False</td>\n",
              "    </tr>\n",
              "    <tr>\n",
              "      <th>2</th>\n",
              "      <td>ny_taxi_pipeline</td>\n",
              "      <td>ny_taxi_data</td>\n",
              "      <td>_dlt_version</td>\n",
              "      <td>[version, engine_version, inserted_at, schema_...</td>\n",
              "      <td>[BIGINT, BIGINT, TIMESTAMP WITH TIME ZONE, VAR...</td>\n",
              "      <td>False</td>\n",
              "    </tr>\n",
              "    <tr>\n",
              "      <th>3</th>\n",
              "      <td>ny_taxi_pipeline</td>\n",
              "      <td>ny_taxi_data</td>\n",
              "      <td>rides</td>\n",
              "      <td>[end_lat, end_lon, fare_amt, passenger_count, ...</td>\n",
              "      <td>[DOUBLE, DOUBLE, DOUBLE, BIGINT, VARCHAR, DOUB...</td>\n",
              "      <td>False</td>\n",
              "    </tr>\n",
              "  </tbody>\n",
              "</table>\n",
              "</div>\n",
              "    <div class=\"colab-df-buttons\">\n",
              "\n",
              "  <div class=\"colab-df-container\">\n",
              "    <button class=\"colab-df-convert\" onclick=\"convertToInteractive('df-b64856dd-e543-4c93-a454-7ba2e3cf22f4')\"\n",
              "            title=\"Convert this dataframe to an interactive table.\"\n",
              "            style=\"display:none;\">\n",
              "\n",
              "  <svg xmlns=\"http://www.w3.org/2000/svg\" height=\"24px\" viewBox=\"0 -960 960 960\">\n",
              "    <path d=\"M120-120v-720h720v720H120Zm60-500h600v-160H180v160Zm220 220h160v-160H400v160Zm0 220h160v-160H400v160ZM180-400h160v-160H180v160Zm440 0h160v-160H620v160ZM180-180h160v-160H180v160Zm440 0h160v-160H620v160Z\"/>\n",
              "  </svg>\n",
              "    </button>\n",
              "\n",
              "  <style>\n",
              "    .colab-df-container {\n",
              "      display:flex;\n",
              "      gap: 12px;\n",
              "    }\n",
              "\n",
              "    .colab-df-convert {\n",
              "      background-color: #E8F0FE;\n",
              "      border: none;\n",
              "      border-radius: 50%;\n",
              "      cursor: pointer;\n",
              "      display: none;\n",
              "      fill: #1967D2;\n",
              "      height: 32px;\n",
              "      padding: 0 0 0 0;\n",
              "      width: 32px;\n",
              "    }\n",
              "\n",
              "    .colab-df-convert:hover {\n",
              "      background-color: #E2EBFA;\n",
              "      box-shadow: 0px 1px 2px rgba(60, 64, 67, 0.3), 0px 1px 3px 1px rgba(60, 64, 67, 0.15);\n",
              "      fill: #174EA6;\n",
              "    }\n",
              "\n",
              "    .colab-df-buttons div {\n",
              "      margin-bottom: 4px;\n",
              "    }\n",
              "\n",
              "    [theme=dark] .colab-df-convert {\n",
              "      background-color: #3B4455;\n",
              "      fill: #D2E3FC;\n",
              "    }\n",
              "\n",
              "    [theme=dark] .colab-df-convert:hover {\n",
              "      background-color: #434B5C;\n",
              "      box-shadow: 0px 1px 3px 1px rgba(0, 0, 0, 0.15);\n",
              "      filter: drop-shadow(0px 1px 2px rgba(0, 0, 0, 0.3));\n",
              "      fill: #FFFFFF;\n",
              "    }\n",
              "  </style>\n",
              "\n",
              "    <script>\n",
              "      const buttonEl =\n",
              "        document.querySelector('#df-b64856dd-e543-4c93-a454-7ba2e3cf22f4 button.colab-df-convert');\n",
              "      buttonEl.style.display =\n",
              "        google.colab.kernel.accessAllowed ? 'block' : 'none';\n",
              "\n",
              "      async function convertToInteractive(key) {\n",
              "        const element = document.querySelector('#df-b64856dd-e543-4c93-a454-7ba2e3cf22f4');\n",
              "        const dataTable =\n",
              "          await google.colab.kernel.invokeFunction('convertToInteractive',\n",
              "                                                    [key], {});\n",
              "        if (!dataTable) return;\n",
              "\n",
              "        const docLinkHtml = 'Like what you see? Visit the ' +\n",
              "          '<a target=\"_blank\" href=https://colab.research.google.com/notebooks/data_table.ipynb>data table notebook</a>'\n",
              "          + ' to learn more about interactive tables.';\n",
              "        element.innerHTML = '';\n",
              "        dataTable['output_type'] = 'display_data';\n",
              "        await google.colab.output.renderOutput(dataTable, element);\n",
              "        const docLink = document.createElement('div');\n",
              "        docLink.innerHTML = docLinkHtml;\n",
              "        element.appendChild(docLink);\n",
              "      }\n",
              "    </script>\n",
              "  </div>\n",
              "\n",
              "\n",
              "<div id=\"df-2e098468-951a-4ce4-b5e0-d8a14b1aff87\">\n",
              "  <button class=\"colab-df-quickchart\" onclick=\"quickchart('df-2e098468-951a-4ce4-b5e0-d8a14b1aff87')\"\n",
              "            title=\"Suggest charts\"\n",
              "            style=\"display:none;\">\n",
              "\n",
              "<svg xmlns=\"http://www.w3.org/2000/svg\" height=\"24px\"viewBox=\"0 0 24 24\"\n",
              "     width=\"24px\">\n",
              "    <g>\n",
              "        <path d=\"M19 3H5c-1.1 0-2 .9-2 2v14c0 1.1.9 2 2 2h14c1.1 0 2-.9 2-2V5c0-1.1-.9-2-2-2zM9 17H7v-7h2v7zm4 0h-2V7h2v10zm4 0h-2v-4h2v4z\"/>\n",
              "    </g>\n",
              "</svg>\n",
              "  </button>\n",
              "\n",
              "<style>\n",
              "  .colab-df-quickchart {\n",
              "      --bg-color: #E8F0FE;\n",
              "      --fill-color: #1967D2;\n",
              "      --hover-bg-color: #E2EBFA;\n",
              "      --hover-fill-color: #174EA6;\n",
              "      --disabled-fill-color: #AAA;\n",
              "      --disabled-bg-color: #DDD;\n",
              "  }\n",
              "\n",
              "  [theme=dark] .colab-df-quickchart {\n",
              "      --bg-color: #3B4455;\n",
              "      --fill-color: #D2E3FC;\n",
              "      --hover-bg-color: #434B5C;\n",
              "      --hover-fill-color: #FFFFFF;\n",
              "      --disabled-bg-color: #3B4455;\n",
              "      --disabled-fill-color: #666;\n",
              "  }\n",
              "\n",
              "  .colab-df-quickchart {\n",
              "    background-color: var(--bg-color);\n",
              "    border: none;\n",
              "    border-radius: 50%;\n",
              "    cursor: pointer;\n",
              "    display: none;\n",
              "    fill: var(--fill-color);\n",
              "    height: 32px;\n",
              "    padding: 0;\n",
              "    width: 32px;\n",
              "  }\n",
              "\n",
              "  .colab-df-quickchart:hover {\n",
              "    background-color: var(--hover-bg-color);\n",
              "    box-shadow: 0 1px 2px rgba(60, 64, 67, 0.3), 0 1px 3px 1px rgba(60, 64, 67, 0.15);\n",
              "    fill: var(--button-hover-fill-color);\n",
              "  }\n",
              "\n",
              "  .colab-df-quickchart-complete:disabled,\n",
              "  .colab-df-quickchart-complete:disabled:hover {\n",
              "    background-color: var(--disabled-bg-color);\n",
              "    fill: var(--disabled-fill-color);\n",
              "    box-shadow: none;\n",
              "  }\n",
              "\n",
              "  .colab-df-spinner {\n",
              "    border: 2px solid var(--fill-color);\n",
              "    border-color: transparent;\n",
              "    border-bottom-color: var(--fill-color);\n",
              "    animation:\n",
              "      spin 1s steps(1) infinite;\n",
              "  }\n",
              "\n",
              "  @keyframes spin {\n",
              "    0% {\n",
              "      border-color: transparent;\n",
              "      border-bottom-color: var(--fill-color);\n",
              "      border-left-color: var(--fill-color);\n",
              "    }\n",
              "    20% {\n",
              "      border-color: transparent;\n",
              "      border-left-color: var(--fill-color);\n",
              "      border-top-color: var(--fill-color);\n",
              "    }\n",
              "    30% {\n",
              "      border-color: transparent;\n",
              "      border-left-color: var(--fill-color);\n",
              "      border-top-color: var(--fill-color);\n",
              "      border-right-color: var(--fill-color);\n",
              "    }\n",
              "    40% {\n",
              "      border-color: transparent;\n",
              "      border-right-color: var(--fill-color);\n",
              "      border-top-color: var(--fill-color);\n",
              "    }\n",
              "    60% {\n",
              "      border-color: transparent;\n",
              "      border-right-color: var(--fill-color);\n",
              "    }\n",
              "    80% {\n",
              "      border-color: transparent;\n",
              "      border-right-color: var(--fill-color);\n",
              "      border-bottom-color: var(--fill-color);\n",
              "    }\n",
              "    90% {\n",
              "      border-color: transparent;\n",
              "      border-bottom-color: var(--fill-color);\n",
              "    }\n",
              "  }\n",
              "</style>\n",
              "\n",
              "  <script>\n",
              "    async function quickchart(key) {\n",
              "      const quickchartButtonEl =\n",
              "        document.querySelector('#' + key + ' button');\n",
              "      quickchartButtonEl.disabled = true;  // To prevent multiple clicks.\n",
              "      quickchartButtonEl.classList.add('colab-df-spinner');\n",
              "      try {\n",
              "        const charts = await google.colab.kernel.invokeFunction(\n",
              "            'suggestCharts', [key], {});\n",
              "      } catch (error) {\n",
              "        console.error('Error during call to suggestCharts:', error);\n",
              "      }\n",
              "      quickchartButtonEl.classList.remove('colab-df-spinner');\n",
              "      quickchartButtonEl.classList.add('colab-df-quickchart-complete');\n",
              "    }\n",
              "    (() => {\n",
              "      let quickchartButtonEl =\n",
              "        document.querySelector('#df-2e098468-951a-4ce4-b5e0-d8a14b1aff87 button');\n",
              "      quickchartButtonEl.style.display =\n",
              "        google.colab.kernel.accessAllowed ? 'block' : 'none';\n",
              "    })();\n",
              "  </script>\n",
              "</div>\n",
              "\n",
              "    </div>\n",
              "  </div>\n"
            ],
            "application/vnd.google.colaboratory.intrinsic+json": {
              "type": "dataframe",
              "summary": "{\n  \"name\": \"conn\",\n  \"rows\": 4,\n  \"fields\": [\n    {\n      \"column\": \"database\",\n      \"properties\": {\n        \"dtype\": \"category\",\n        \"num_unique_values\": 1,\n        \"samples\": [\n          \"ny_taxi_pipeline\"\n        ],\n        \"semantic_type\": \"\",\n        \"description\": \"\"\n      }\n    },\n    {\n      \"column\": \"schema\",\n      \"properties\": {\n        \"dtype\": \"category\",\n        \"num_unique_values\": 1,\n        \"samples\": [\n          \"ny_taxi_data\"\n        ],\n        \"semantic_type\": \"\",\n        \"description\": \"\"\n      }\n    },\n    {\n      \"column\": \"name\",\n      \"properties\": {\n        \"dtype\": \"string\",\n        \"num_unique_values\": 4,\n        \"samples\": [\n          \"_dlt_pipeline_state\"\n        ],\n        \"semantic_type\": \"\",\n        \"description\": \"\"\n      }\n    },\n    {\n      \"column\": \"column_names\",\n      \"properties\": {\n        \"dtype\": \"object\",\n        \"semantic_type\": \"\",\n        \"description\": \"\"\n      }\n    },\n    {\n      \"column\": \"column_types\",\n      \"properties\": {\n        \"dtype\": \"object\",\n        \"semantic_type\": \"\",\n        \"description\": \"\"\n      }\n    },\n    {\n      \"column\": \"temporary\",\n      \"properties\": {\n        \"dtype\": \"boolean\",\n        \"num_unique_values\": 1,\n        \"samples\": [\n          false\n        ],\n        \"semantic_type\": \"\",\n        \"description\": \"\"\n      }\n    }\n  ]\n}"
            },
            "application/vnd.google.colaboratory.module+javascript": "\n      import \"https://ssl.gstatic.com/colaboratory/data_table/e523c247d1e24a05/data_table.js\";\n\n      const table = window.createDataTable({\n        data: [[{\n            'v': 0,\n            'f': \"0\",\n        },\n\"ny_taxi_pipeline\",\n\"ny_taxi_data\",\n\"_dlt_loads\",\n\"['load_id' 'schema_name' 'status' 'inserted_at' 'schema_version_hash']\",\n\"['VARCHAR' 'VARCHAR' 'BIGINT' 'TIMESTAMP WITH TIME ZONE' 'VARCHAR']\",\nfalse],\n [{\n            'v': 1,\n            'f': \"1\",\n        },\n\"ny_taxi_pipeline\",\n\"ny_taxi_data\",\n\"_dlt_pipeline_state\",\n\"['version' 'engine_version' 'pipeline_name' 'state' 'created_at'\\n 'version_hash' '_dlt_load_id' '_dlt_id']\",\n\"['BIGINT' 'BIGINT' 'VARCHAR' 'VARCHAR' 'TIMESTAMP WITH TIME ZONE'\\n 'VARCHAR' 'VARCHAR' 'VARCHAR']\",\nfalse],\n [{\n            'v': 2,\n            'f': \"2\",\n        },\n\"ny_taxi_pipeline\",\n\"ny_taxi_data\",\n\"_dlt_version\",\n\"['version' 'engine_version' 'inserted_at' 'schema_name' 'version_hash'\\n 'schema']\",\n\"['BIGINT' 'BIGINT' 'TIMESTAMP WITH TIME ZONE' 'VARCHAR' 'VARCHAR'\\n 'VARCHAR']\",\nfalse],\n [{\n            'v': 3,\n            'f': \"3\",\n        },\n\"ny_taxi_pipeline\",\n\"ny_taxi_data\",\n\"rides\",\n\"['end_lat' 'end_lon' 'fare_amt' 'passenger_count' 'payment_type'\\n 'start_lat' 'start_lon' 'tip_amt' 'tolls_amt' 'total_amt' 'trip_distance'\\n 'trip_dropoff_date_time' 'trip_pickup_date_time' 'surcharge'\\n 'vendor_name' '_dlt_load_id' '_dlt_id' 'store_and_forward']\",\n\"['DOUBLE' 'DOUBLE' 'DOUBLE' 'BIGINT' 'VARCHAR' 'DOUBLE' 'DOUBLE' 'DOUBLE'\\n 'DOUBLE' 'DOUBLE' 'DOUBLE' 'TIMESTAMP WITH TIME ZONE'\\n 'TIMESTAMP WITH TIME ZONE' 'DOUBLE' 'VARCHAR' 'VARCHAR' 'VARCHAR'\\n 'DOUBLE']\",\nfalse]],\n        columns: [[\"number\", \"index\"], [\"string\", \"database\"], [\"string\", \"schema\"], [\"string\", \"name\"], [\"string\", \"column_names\"], [\"string\", \"column_types\"], [\"string\", \"temporary\"]],\n        columnOptions: [{\"width\": \"1px\", \"className\": \"index_column\"}],\n        rowsPerPage: 25,\n        helpUrl: \"https://colab.research.google.com/notebooks/data_table.ipynb\",\n        suppressOutputScrolling: true,\n        minimumWidth: undefined,\n      });\n\n      function appendQuickchartButton(parentElement) {\n        let quickchartButtonContainerElement = document.createElement('div');\n        quickchartButtonContainerElement.innerHTML = `\n<div id=\"df-5a249631-a561-4d27-b864-f05f19a0ac82\">\n  <button class=\"colab-df-quickchart\" onclick=\"quickchart('df-5a249631-a561-4d27-b864-f05f19a0ac82')\"\n            title=\"Suggest charts\"\n            style=\"display:none;\">\n    \n<svg xmlns=\"http://www.w3.org/2000/svg\" height=\"24px\"viewBox=\"0 0 24 24\"\n     width=\"24px\">\n    <g>\n        <path d=\"M19 3H5c-1.1 0-2 .9-2 2v14c0 1.1.9 2 2 2h14c1.1 0 2-.9 2-2V5c0-1.1-.9-2-2-2zM9 17H7v-7h2v7zm4 0h-2V7h2v10zm4 0h-2v-4h2v4z\"/>\n    </g>\n</svg>\n  </button>\n  \n<style>\n  .colab-df-quickchart {\n      --bg-color: #E8F0FE;\n      --fill-color: #1967D2;\n      --hover-bg-color: #E2EBFA;\n      --hover-fill-color: #174EA6;\n      --disabled-fill-color: #AAA;\n      --disabled-bg-color: #DDD;\n  }\n\n  [theme=dark] .colab-df-quickchart {\n      --bg-color: #3B4455;\n      --fill-color: #D2E3FC;\n      --hover-bg-color: #434B5C;\n      --hover-fill-color: #FFFFFF;\n      --disabled-bg-color: #3B4455;\n      --disabled-fill-color: #666;\n  }\n\n  .colab-df-quickchart {\n    background-color: var(--bg-color);\n    border: none;\n    border-radius: 50%;\n    cursor: pointer;\n    display: none;\n    fill: var(--fill-color);\n    height: 32px;\n    padding: 0;\n    width: 32px;\n  }\n\n  .colab-df-quickchart:hover {\n    background-color: var(--hover-bg-color);\n    box-shadow: 0 1px 2px rgba(60, 64, 67, 0.3), 0 1px 3px 1px rgba(60, 64, 67, 0.15);\n    fill: var(--button-hover-fill-color);\n  }\n\n  .colab-df-quickchart-complete:disabled,\n  .colab-df-quickchart-complete:disabled:hover {\n    background-color: var(--disabled-bg-color);\n    fill: var(--disabled-fill-color);\n    box-shadow: none;\n  }\n\n  .colab-df-spinner {\n    border: 2px solid var(--fill-color);\n    border-color: transparent;\n    border-bottom-color: var(--fill-color);\n    animation:\n      spin 1s steps(1) infinite;\n  }\n\n  @keyframes spin {\n    0% {\n      border-color: transparent;\n      border-bottom-color: var(--fill-color);\n      border-left-color: var(--fill-color);\n    }\n    20% {\n      border-color: transparent;\n      border-left-color: var(--fill-color);\n      border-top-color: var(--fill-color);\n    }\n    30% {\n      border-color: transparent;\n      border-left-color: var(--fill-color);\n      border-top-color: var(--fill-color);\n      border-right-color: var(--fill-color);\n    }\n    40% {\n      border-color: transparent;\n      border-right-color: var(--fill-color);\n      border-top-color: var(--fill-color);\n    }\n    60% {\n      border-color: transparent;\n      border-right-color: var(--fill-color);\n    }\n    80% {\n      border-color: transparent;\n      border-right-color: var(--fill-color);\n      border-bottom-color: var(--fill-color);\n    }\n    90% {\n      border-color: transparent;\n      border-bottom-color: var(--fill-color);\n    }\n  }\n</style>\n\n  <script>\n    async function quickchart(key) {\n      const quickchartButtonEl =\n        document.querySelector('#' + key + ' button');\n      quickchartButtonEl.disabled = true;  // To prevent multiple clicks.\n      quickchartButtonEl.classList.add('colab-df-spinner');\n      try {\n        const charts = await google.colab.kernel.invokeFunction(\n            'suggestCharts', [key], {});\n      } catch (error) {\n        console.error('Error during call to suggestCharts:', error);\n      }\n      quickchartButtonEl.classList.remove('colab-df-spinner');\n      quickchartButtonEl.classList.add('colab-df-quickchart-complete');\n    }\n    (() => {\n      let quickchartButtonEl =\n        document.querySelector('#df-5a249631-a561-4d27-b864-f05f19a0ac82 button');\n      quickchartButtonEl.style.display =\n        google.colab.kernel.accessAllowed ? 'block' : 'none';\n    })();\n  </script>\n</div>`;\n        parentElement.appendChild(quickchartButtonContainerElement);\n      }\n\n      appendQuickchartButton(table);\n    "
          },
          "metadata": {},
          "execution_count": 10
        }
      ]
    },
    {
      "cell_type": "markdown",
      "source": [
        "Solution Question 2:\n",
        "\n",
        "4 Tables\n",
        "  * _dlt_loads\n",
        "  * _dlt_pipeline_state\n",
        "  * _dlt_version\n",
        "  * rides"
      ],
      "metadata": {
        "id": "ujCyu1HDh-o0"
      }
    },
    {
      "cell_type": "markdown",
      "source": [
        "### Question 3 Explore the loaded data\n",
        "What is the total number of records extracted?\n",
        "\n",
        "  * 2500\n",
        "  * 5000\n",
        "  * 7500\n",
        "  * 10000\n"
      ],
      "metadata": {
        "id": "ed8GaZqIiRaj"
      }
    },
    {
      "cell_type": "code",
      "source": [
        "# inspect the table ride\n",
        "df = pipeline.dataset(dataset_type=\"default\").rides.df()\n",
        "df.info()"
      ],
      "metadata": {
        "colab": {
          "base_uri": "https://localhost:8080/"
        },
        "id": "zGef71WKiB2e",
        "outputId": "d0d0053a-a183-4098-e791-84bfd2120ac6"
      },
      "execution_count": 12,
      "outputs": [
        {
          "output_type": "stream",
          "name": "stdout",
          "text": [
            "<class 'pandas.core.frame.DataFrame'>\n",
            "RangeIndex: 10000 entries, 0 to 9999\n",
            "Data columns (total 18 columns):\n",
            " #   Column                  Non-Null Count  Dtype              \n",
            "---  ------                  --------------  -----              \n",
            " 0   end_lat                 10000 non-null  float64            \n",
            " 1   end_lon                 10000 non-null  float64            \n",
            " 2   fare_amt                10000 non-null  float64            \n",
            " 3   passenger_count         10000 non-null  int64              \n",
            " 4   payment_type            10000 non-null  object             \n",
            " 5   start_lat               10000 non-null  float64            \n",
            " 6   start_lon               10000 non-null  float64            \n",
            " 7   tip_amt                 10000 non-null  float64            \n",
            " 8   tolls_amt               10000 non-null  float64            \n",
            " 9   total_amt               10000 non-null  float64            \n",
            " 10  trip_distance           10000 non-null  float64            \n",
            " 11  trip_dropoff_date_time  10000 non-null  datetime64[us, UTC]\n",
            " 12  trip_pickup_date_time   10000 non-null  datetime64[us, UTC]\n",
            " 13  surcharge               10000 non-null  float64            \n",
            " 14  vendor_name             10000 non-null  object             \n",
            " 15  _dlt_load_id            10000 non-null  object             \n",
            " 16  _dlt_id                 10000 non-null  object             \n",
            " 17  store_and_forward       135 non-null    float64            \n",
            "dtypes: datetime64[us, UTC](2), float64(11), int64(1), object(4)\n",
            "memory usage: 1.4+ MB\n"
          ]
        }
      ]
    },
    {
      "cell_type": "code",
      "source": [
        "# number of rows\n",
        "print(len(df))"
      ],
      "metadata": {
        "colab": {
          "base_uri": "https://localhost:8080/"
        },
        "id": "G4p0AzmYiiTe",
        "outputId": "d326d275-4958-4d7a-c6ff-fbab68111776"
      },
      "execution_count": 13,
      "outputs": [
        {
          "output_type": "stream",
          "name": "stdout",
          "text": [
            "10000\n"
          ]
        }
      ]
    },
    {
      "cell_type": "markdown",
      "source": [
        "Solution 10000 records"
      ],
      "metadata": {
        "id": "7_MAgScVi3s6"
      }
    },
    {
      "cell_type": "markdown",
      "source": [
        "### Question 4: Trip Duration Analysis\n",
        "Calculate the average trip duration in minutes."
      ],
      "metadata": {
        "id": "-TyhkqyLi_Md"
      }
    },
    {
      "cell_type": "markdown",
      "source": [
        "What is the average trip duration?\n",
        "\n",
        "  * 12.3049\n",
        "  * 22.3049\n",
        "  * 32.3049\n",
        "  * 42.3049\n"
      ],
      "metadata": {
        "id": "FWg7YPJpjzXB"
      }
    },
    {
      "cell_type": "code",
      "source": [
        "with pipeline.sql_client() as client:\n",
        "    res = client.execute_sql(\n",
        "            \"\"\"\n",
        "            SELECT\n",
        "            AVG(date_diff('minute', trip_pickup_date_time, trip_dropoff_date_time))\n",
        "            FROM rides;\n",
        "            \"\"\"\n",
        "        )\n",
        "    # Prints column values of the first row\n",
        "    print(res)"
      ],
      "metadata": {
        "colab": {
          "base_uri": "https://localhost:8080/"
        },
        "id": "vbc7k4TSi7iF",
        "outputId": "e567ccc1-5a4f-4185-f6c1-d35aa31ba970"
      },
      "execution_count": 14,
      "outputs": [
        {
          "output_type": "stream",
          "name": "stdout",
          "text": [
            "[(12.3049,)]\n"
          ]
        }
      ]
    },
    {
      "cell_type": "markdown",
      "source": [
        "Solution: 12.3049"
      ],
      "metadata": {
        "id": "Sc53ZtT4kCU4"
      }
    }
  ]
}