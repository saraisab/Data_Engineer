{
  "cells": [
    {
      "cell_type": "markdown",
      "metadata": {
        "id": "RYv3JuvnQBAW"
      },
      "source": [
        "## Extra homework workshop DLT DE Zoomcamp\n",
        "### Using DLT to move data from a bunch of parquet files to BIGQUERY\n",
        "For this homework we will be using the Yellow Taxi Trip Records for January 2024 - June 2024 NOT the entire year of data Parquet Files from the New York City Taxi Data found here:\n",
        "https://www.nyc.gov/site/tlc/about/tlc-trip-record-data.page\n"
      ]
    },
    {
      "cell_type": "markdown",
      "metadata": {
        "id": "iI0D5VpAQqDG"
      },
      "source": [
        "* First I have to install the package"
      ]
    },
    {
      "cell_type": "code",
      "execution_count": 29,
      "metadata": {
        "id": "QTmN4gh4RLn3"
      },
      "outputs": [],
      "source": [
        "%%capture\n",
        "!pip install dlt[bigquery]"
      ]
    },
    {
      "cell_type": "markdown",
      "metadata": {
        "id": "2NO39gBIeaPl"
      },
      "source": [
        "Declare the url_parquet with the webpage and extract the urls from that web"
      ]
    },
    {
      "cell_type": "code",
      "execution_count": null,
      "metadata": {
        "id": "J1-5z4OlP4ME"
      },
      "outputs": [],
      "source": [
        "import dlt\n",
        "import pandas as pd\n",
        "import requests\n",
        "from bs4 import BeautifulSoup\n",
        "from io import BytesIO\n",
        "\n",
        "url_parquet = \"https://www.nyc.gov/site/tlc/about/tlc-trip-record-data.page\"\n",
        "\n",
        "def get_parquet_urls():\n",
        "    \"\"\"Get the urls from the TLC NYC webpage data\"\"\"\n",
        "    response = requests.get(url_parquet)\n",
        "    response.raise_for_status()\n",
        "\n",
        "    soup = BeautifulSoup(response.text, \"html.parser\")\n",
        "    links = soup.find_all(\"a\", href=True)\n",
        "\n",
        "    parquet_urls = [\n",
        "        link[\"href\"] for link in links if link[\"href\"].endswith(\".parquet\")\n",
        "    ]\n",
        "\n",
        "    return parquet_urls\n",
        "\n",
        "\n"
      ]
    },
    {
      "cell_type": "code",
      "execution_count": null,
      "metadata": {
        "colab": {
          "base_uri": "https://localhost:8080/",
          "height": 35
        },
        "id": "QmQW_dhRY5b_",
        "outputId": "bd0392ec-cda6-4611-dd12-e10724f24dc8"
      },
      "outputs": [
        {
          "data": {
            "application/vnd.google.colaboratory.intrinsic+json": {
              "type": "string"
            },
            "text/plain": [
              "'https://d37ci6vzurychx.cloudfront.net/trip-data/green_tripdata_2024-02.parquet'"
            ]
          },
          "execution_count": 19,
          "metadata": {},
          "output_type": "execute_result"
        }
      ],
      "source": [
        "#get the urls and insert into a variable urls_list\n",
        "urls_list = get_parquet_urls()\n",
        "\n",
        "# to see the url\n",
        "urls_list[0]"
      ]
    },
    {
      "cell_type": "markdown",
      "metadata": {
        "id": "qB78ZSZ5elu0"
      },
      "source": [
        "Insert into the parquet_urls list the yellow_tripdata from January 2024 to June 2024"
      ]
    },
    {
      "cell_type": "code",
      "execution_count": null,
      "metadata": {
        "colab": {
          "base_uri": "https://localhost:8080/"
        },
        "id": "0jR1kQFkZVsb",
        "outputId": "08f3a02f-e993-4645-ebdd-3dc8b54706e7"
      },
      "outputs": [
        {
          "data": {
            "text/plain": [
              "['https://d37ci6vzurychx.cloudfront.net/trip-data/yellow_tripdata_2024-01.parquet',\n",
              " 'https://d37ci6vzurychx.cloudfront.net/trip-data/yellow_tripdata_2024-02.parquet',\n",
              " 'https://d37ci6vzurychx.cloudfront.net/trip-data/yellow_tripdata_2024-03.parquet',\n",
              " 'https://d37ci6vzurychx.cloudfront.net/trip-data/yellow_tripdata_2024-04.parquet',\n",
              " 'https://d37ci6vzurychx.cloudfront.net/trip-data/yellow_tripdata_2024-05.parquet',\n",
              " 'https://d37ci6vzurychx.cloudfront.net/trip-data/yellow_tripdata_2024-06.parquet']"
            ]
          },
          "execution_count": 20,
          "metadata": {},
          "output_type": "execute_result"
        }
      ],
      "source": [
        "parquet_urls = [f'https://d37ci6vzurychx.cloudfront.net/trip-data/yellow_tripdata_2024-0{str(month)}.parquet' for month in range(1,7)]\n",
        "parquet_urls"
      ]
    },
    {
      "cell_type": "markdown",
      "metadata": {
        "id": "f_j_6WIje8Jz"
      },
      "source": [
        "Connect to to download the data"
      ]
    },
    {
      "cell_type": "code",
      "execution_count": null,
      "metadata": {
        "id": "JXPDAgpQcciL"
      },
      "outputs": [],
      "source": [
        "@dlt.resource(name=\"ny_taxi_data\", write_disposition=\"replace\")\n",
        "def ny_taxi():\n",
        "\n",
        "  for url in parquet_urls:\n",
        "    response = requests.get(url)\n",
        "    response.raise_for_status()\n",
        "\n",
        "    df = pd.read_parquet(BytesIO(response.content))\n",
        "    yield df.to_dict(orient=\"records\")"
      ]
    },
    {
      "cell_type": "markdown",
      "metadata": {
        "id": "4QU9AGm8e9Xd"
      },
      "source": [
        "declare the credentials from bigquery"
      ]
    },
    {
      "cell_type": "code",
      "execution_count": null,
      "metadata": {
        "id": "aslBFIQMSH6B"
      },
      "outputs": [],
      "source": [
        "import os\n",
        "from google.colab import userdata\n",
        "\n",
        "os.environ[\"DESTINATION__BIGQUERY__CREDENTIALS\"] = userdata.get('BIGQUERY_CRED')"
      ]
    },
    {
      "cell_type": "markdown",
      "metadata": {
        "id": "iBmZ5RjhfDsJ"
      },
      "source": [
        "Create the pipeline in order to insert the data into bigquery"
      ]
    },
    {
      "cell_type": "code",
      "execution_count": null,
      "metadata": {
        "colab": {
          "background_save": true
        },
        "id": "yqy7bIF_SNaY",
        "outputId": "25354172-c891-4753-ae21-912e2d2ebdb3"
      },
      "outputs": [
        {
          "name": "stdout",
          "output_type": "stream",
          "text": [
            "Pipeline taxi_data load step completed in 1 minute and 29.25 seconds\n",
            "1 load package(s) were loaded to destination bigquery and into dataset taxi_ny_data_yellow_20250217075307\n",
            "The bigquery destination used terraform-runner@celtic-surface-447817-d0.iam.gserviceaccount.com@celtic-surface-447817-d0 location to store data\n",
            "Load package 1739821987.71076 is LOADED and contains no failed jobs\n"
          ]
        }
      ],
      "source": [
        "pipeline = dlt.pipeline(\n",
        "    pipeline_name=\"taxi_data\",\n",
        "    destination=\"bigquery\",\n",
        "    dataset_name=\"taxi_ny_data_yellow\",\n",
        "    dev_mode=True,\n",
        ")\n",
        "\n",
        "info = pipeline.run(ny_taxi)\n",
        "print(info)"
      ]
    },
    {
      "cell_type": "markdown",
      "metadata": {
        "id": "SJosW2mJQASw"
      },
      "source": []
    }
  ],
  "metadata": {
    "colab": {
      "provenance": []
    },
    "kernelspec": {
      "display_name": "Python 3",
      "name": "python3"
    },
    "language_info": {
      "name": "python"
    }
  },
  "nbformat": 4,
  "nbformat_minor": 0
}